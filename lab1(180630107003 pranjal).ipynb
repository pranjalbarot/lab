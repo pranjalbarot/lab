{
 "cells": [
  {
   "cell_type": "code",
   "execution_count": 1,
   "metadata": {},
   "outputs": [
    {
     "name": "stdout",
     "output_type": "stream",
     "text": [
      "printing boolean values\n",
      "False\n",
      "True\n",
      "True\n",
      "pranjal barot \n",
      "180630107003\n"
     ]
    }
   ],
   "source": [
    "#conditions\n",
    "print(\"printing boolean values\")\n",
    "x=2\n",
    "print(x==3)\n",
    "print(x==2)\n",
    "print(x<3)\n",
    "print(\"pranjal barot \\n180630107003\")"
   ]
  },
  {
   "cell_type": "code",
   "execution_count": 3,
   "metadata": {},
   "outputs": [
    {
     "name": "stdout",
     "output_type": "stream",
     "text": [
      "boolean operator\n",
      "your name is john and age is 23\n",
      "your name is either joh or rick\n",
      "pranjal barot\n",
      "180630107003\n"
     ]
    }
   ],
   "source": [
    "print(\"boolean operator\")\n",
    "name=\"john\"\n",
    "age=23\n",
    "if name==\"john\" and age==23:\n",
    "    print(\"your name is john and age is 23\")\n",
    "if name==\"john\" or name==\"rick\":\n",
    "    print(\"your name is either joh or rick\")\n",
    "print(\"pranjal barot\\n180630107003\")"
   ]
  },
  {
   "cell_type": "code",
   "execution_count": 4,
   "metadata": {},
   "outputs": [
    {
     "name": "stdout",
     "output_type": "stream",
     "text": [
      "use of in operator\n",
      "your name is either john or rick\n",
      "ranjal barot\n",
      "180630107003\n"
     ]
    }
   ],
   "source": [
    "print(\"use of in operator\")\n",
    "name=\"john\"\n",
    "if name in (\"john\",\"rick\"):\n",
    "    print(\"your name is either john or rick\")\n",
    "print(\"ranjal barot\\n180630107003\")"
   ]
  },
  {
   "cell_type": "code",
   "execution_count": 7,
   "metadata": {},
   "outputs": [
    {
     "name": "stdout",
     "output_type": "stream",
     "text": [
      "if statement\n",
      "x is 2\n",
      "pranjal barot\n",
      "180630107003\n"
     ]
    }
   ],
   "source": [
    "print(\"if statement\")\n",
    "x=2\n",
    "if x==2:\n",
    "    print(\"x is 2\")\n",
    "else:\n",
    "    print(\"x does not equal to 2\")\n",
    "print(\"pranjal barot\\n180630107003\")"
   ]
  },
  {
   "cell_type": "code",
   "execution_count": 8,
   "metadata": {},
   "outputs": [
    {
     "name": "stdout",
     "output_type": "stream",
     "text": [
      "is operator\n",
      "True\n",
      "False\n",
      "pranjal\n",
      "180630107003\n"
     ]
    }
   ],
   "source": [
    "print(\"is operator\")\n",
    "x=[1,2,3]\n",
    "y=[1,2,3]\n",
    "print(x==y)\n",
    "print(x is y)\n",
    "print(\"pranjal\\n180630107003\")"
   ]
  },
  {
   "cell_type": "code",
   "execution_count": 10,
   "metadata": {},
   "outputs": [
    {
     "name": "stdout",
     "output_type": "stream",
     "text": [
      "not operator\n",
      "True\n",
      "False\n",
      "pranjal barot\n",
      "180630107003\n"
     ]
    }
   ],
   "source": [
    "print(\"not operator\")\n",
    "print(not False)\n",
    "print((not False)==(False))\n",
    "print(\"pranjal barot\\n180630107003\")"
   ]
  },
  {
   "cell_type": "code",
   "execution_count": 13,
   "metadata": {},
   "outputs": [
    {
     "name": "stdout",
     "output_type": "stream",
     "text": [
      "for loop\n",
      "2\n",
      "3\n",
      "5\n",
      "7\n",
      "pranjal barot\n",
      "180630107003\n"
     ]
    }
   ],
   "source": [
    "#loops\n",
    "print(\"for loop\")\n",
    "primes=[2,3,5,7]\n",
    "for i in primes:\n",
    "    print(i)\n",
    "print(\"pranjal barot\\n180630107003\")"
   ]
  },
  {
   "cell_type": "code",
   "execution_count": 15,
   "metadata": {},
   "outputs": [
    {
     "name": "stdout",
     "output_type": "stream",
     "text": [
      "0\n",
      "1\n",
      "2\n",
      "3\n",
      "4\n",
      "print number 3,4,5\n",
      "3\n",
      "4\n",
      "5\n",
      "pranjal barot\n",
      "180630107003\n"
     ]
    }
   ],
   "source": [
    "#print out the numbers 0,1,2,3,4\n",
    "for x in range(5):\n",
    "    print(x)\n",
    "#print 3,4,5\n",
    "print(\"print number 3,4,5\")\n",
    "for x in range(3,6):\n",
    "    print(x)\n",
    "print(\"pranjal barot\\n180630107003\")"
   ]
  },
  {
   "cell_type": "code",
   "execution_count": 17,
   "metadata": {},
   "outputs": [
    {
     "name": "stdout",
     "output_type": "stream",
     "text": [
      "print 0,1,2,3,4\n",
      "0\n",
      "1\n",
      "2\n",
      "3\n",
      "4\n",
      "pranjal barot\n",
      "180630107003\n"
     ]
    }
   ],
   "source": [
    "#while loops\n",
    "print(\"print 0,1,2,3,4\")\n",
    "count=0\n",
    "while count<5:\n",
    "    print(count)\n",
    "    count+=1\n",
    "print(\"pranjal barot\\n180630107003\")"
   ]
  },
  {
   "cell_type": "code",
   "execution_count": 20,
   "metadata": {},
   "outputs": [
    {
     "name": "stdout",
     "output_type": "stream",
     "text": [
      "print 0,1,2,3,4\n",
      "0\n",
      "1\n",
      "2\n",
      "3\n",
      "4\n",
      "pranjal barot\n",
      "180630107003\n"
     ]
    }
   ],
   "source": [
    "#break \n",
    "print(\"print 0,1,2,3,4\")\n",
    "count=0\n",
    "while True:\n",
    "    print(count)\n",
    "    count+=1\n",
    "    if count>=5:\n",
    "        break\n",
    "print(\"pranjal barot\\n180630107003\")"
   ]
  },
  {
   "cell_type": "code",
   "execution_count": 21,
   "metadata": {},
   "outputs": [
    {
     "name": "stdout",
     "output_type": "stream",
     "text": [
      "odd numbers\n",
      "1\n",
      "3\n",
      "5\n",
      "7\n",
      "9\n",
      "pranjal barot\n",
      "180630107003\n"
     ]
    }
   ],
   "source": [
    "#continue\n",
    "print(\"odd numbers\")\n",
    "for x in range(10):\n",
    "    if x%2==0:\n",
    "        continue\n",
    "    print(x)\n",
    "print(\"pranjal barot\\n180630107003\")"
   ]
  },
  {
   "cell_type": "code",
   "execution_count": 22,
   "metadata": {},
   "outputs": [
    {
     "name": "stdout",
     "output_type": "stream",
     "text": [
      "Print 0,1,2,3,4 and then it prints\n",
      "0\n",
      "1\n",
      "2\n",
      "3\n",
      "4\n",
      "count value reached 5\n",
      "pranjal barot\n",
      "180630107003\n"
     ]
    }
   ],
   "source": [
    "print(\"Print 0,1,2,3,4 and then it prints\")\n",
    "count=0\n",
    "while(count<5):\n",
    "    print(count)\n",
    "    count +=1\n",
    "else:\n",
    "    print(\"count value reached %d\" %(count))\n",
    "print(\"pranjal barot\\n180630107003\")"
   ]
  },
  {
   "cell_type": "code",
   "execution_count": 23,
   "metadata": {},
   "outputs": [
    {
     "name": "stdout",
     "output_type": "stream",
     "text": [
      "Prints out 1,2,3,4\n",
      "1\n",
      "2\n",
      "3\n",
      "4\n",
      "pranjal barot\n",
      "180630107003\n"
     ]
    }
   ],
   "source": [
    "print(\"Prints out 1,2,3,4\")\n",
    "for i in range(1, 10):\n",
    "    if(i%5==0):\n",
    "        break\n",
    "    print(i)\n",
    "else:\n",
    "    print(\"this is not printed because for loop is terminated because of break\")\n",
    "print(\"pranjal barot\\n180630107003\")"
   ]
  },
  {
   "cell_type": "code",
   "execution_count": null,
   "metadata": {},
   "outputs": [],
   "source": []
  }
 ],
 "metadata": {
  "kernelspec": {
   "display_name": "Python 3",
   "language": "python",
   "name": "python3"
  },
  "language_info": {
   "codemirror_mode": {
    "name": "ipython",
    "version": 3
   },
   "file_extension": ".py",
   "mimetype": "text/x-python",
   "name": "python",
   "nbconvert_exporter": "python",
   "pygments_lexer": "ipython3",
   "version": "3.7.6"
  }
 },
 "nbformat": 4,
 "nbformat_minor": 4
}
