{
 "cells": [
  {
   "cell_type": "code",
   "execution_count": 2,
   "metadata": {},
   "outputs": [
    {
     "name": "stdout",
     "output_type": "stream",
     "text": [
      "simple hello world program\n",
      "hello, world!!\n",
      "hello i m pranjal \n",
      " en no:180630107003\n"
     ]
    }
   ],
   "source": [
    "print(\"simple hello world program\")\n",
    "print(\"hello, world!!\")\n",
    "print(\"hello i m pranjal \\n en no:180630107003\")"
   ]
  },
  {
   "cell_type": "code",
   "execution_count": 4,
   "metadata": {},
   "outputs": [
    {
     "name": "stdout",
     "output_type": "stream",
     "text": [
      "if statement program\n",
      "x is 1\n",
      "pranjal barot \n",
      " 180630107003\n"
     ]
    }
   ],
   "source": [
    "print(\"if statement program\")\n",
    "x=1\n",
    "if x==1:\n",
    "    print(\"x is 1\")\n",
    "print(\"pranjal barot \\n 180630107003\")"
   ]
  },
  {
   "cell_type": "code",
   "execution_count": 5,
   "metadata": {},
   "outputs": [
    {
     "name": "stdout",
     "output_type": "stream",
     "text": [
      "simple good bye meassage showing program\n",
      "goodbye, world!!\n",
      "pranjal barot \n",
      " 180630107003\n"
     ]
    }
   ],
   "source": [
    "print(\"simple good bye meassage showing program\")\n",
    "print(\"goodbye, world!!\")\n",
    "print(\"pranjal barot \\n 180630107003\")"
   ]
  },
  {
   "cell_type": "code",
   "execution_count": 6,
   "metadata": {},
   "outputs": [
    {
     "name": "stdout",
     "output_type": "stream",
     "text": [
      "addition of two numbers\n",
      "sum of 4.5 and 8 is 12.5\n",
      "pranjal barot \n",
      " 180630107003\n"
     ]
    }
   ],
   "source": [
    "print(\"addition of two numbers\")\n",
    "num1=4.5\n",
    "num2=8\n",
    "sum=num1+num2\n",
    "print(\"sum of {0} and {1} is {2}\".format(num1,num2,sum))\n",
    "print(\"pranjal barot \\n 180630107003\")"
   ]
  },
  {
   "cell_type": "code",
   "execution_count": 7,
   "metadata": {},
   "outputs": [
    {
     "name": "stdout",
     "output_type": "stream",
     "text": [
      "print a number\n",
      "1.7\n",
      "pranjal barot  \n",
      " en no:180630107003\n"
     ]
    }
   ],
   "source": [
    "#number and datatype\n",
    "print(\"print a number\")\n",
    "num=1.7\n",
    "print(num)\n",
    "print(\"pranjal barot  \\n en no:180630107003\")"
   ]
  },
  {
   "cell_type": "code",
   "execution_count": 9,
   "metadata": {},
   "outputs": [
    {
     "name": "stdout",
     "output_type": "stream",
     "text": [
      "program to print number of different datatype\n",
      "7.0\n",
      "7\n",
      "pranjal barot \n",
      " 180630107003\n"
     ]
    }
   ],
   "source": [
    "print(\"program to print number of different datatype\")\n",
    "num=7.0\n",
    "print(num)\n",
    "ans=int(num)\n",
    "print(ans)\n",
    "print(\"pranjal barot \\n 180630107003\")"
   ]
  },
  {
   "cell_type": "code",
   "execution_count": 10,
   "metadata": {},
   "outputs": [
    {
     "name": "stdout",
     "output_type": "stream",
     "text": [
      "printing numbers\n",
      "3 4\n",
      "pranjal barot \n",
      " 180630107003\n"
     ]
    }
   ],
   "source": [
    "print(\"printing numbers\")\n",
    "a,b=3,4\n",
    "print(a,b)\n",
    "print(\"pranjal barot \\n 180630107003\")"
   ]
  },
  {
   "cell_type": "code",
   "execution_count": 12,
   "metadata": {},
   "outputs": [
    {
     "name": "stdout",
     "output_type": "stream",
     "text": [
      "program to show single and double quatation\n",
      "hello\n",
      "hello\n",
      "pranjal barot \n",
      " 180630107003\n"
     ]
    }
   ],
   "source": [
    "print(\"program to show single and double quatation\")\n",
    "string1='hello'\n",
    "print(string1)\n",
    "string2=\"hello\"\n",
    "print(string2)\n",
    "print(\"pranjal barot \\n 180630107003\")"
   ]
  },
  {
   "cell_type": "code",
   "execution_count": 14,
   "metadata": {},
   "outputs": [
    {
     "name": "stdout",
     "output_type": "stream",
     "text": [
      "program to print string\n",
      "dont worry about apostrophes\n",
      "pranjal barot \n",
      " 180630107003\n"
     ]
    }
   ],
   "source": [
    "print(\"program to print string\")\n",
    "mystring='dont worry about apostrophes'\n",
    "print(mystring)\n",
    "print(\"pranjal barot \\n 180630107003\")"
   ]
  },
  {
   "cell_type": "code",
   "execution_count": 15,
   "metadata": {},
   "outputs": [
    {
     "name": "stdout",
     "output_type": "stream",
     "text": [
      "program to cocating string\n",
      "3\n",
      "hello world\n",
      "name:pranjal barot \n",
      " en no:180630107003\n"
     ]
    }
   ],
   "source": [
    "print(\"program to cocating string\")\n",
    "one=1\n",
    "two=2\n",
    "three=one+two\n",
    "print(three)\n",
    "hello=\"hello\"\n",
    "world=\"world\"\n",
    "helloworld=\"hello\"+\" \"+\"world\"\n",
    "print(helloworld)\n",
    "print(\"name:pranjal barot \\n en no:180630107003\")"
   ]
  },
  {
   "cell_type": "code",
   "execution_count": 16,
   "metadata": {},
   "outputs": [
    {
     "name": "stdout",
     "output_type": "stream",
     "text": [
      "string: hello\n",
      "integer:20\n"
     ]
    }
   ],
   "source": [
    "mystring=\"hello\"\n",
    "myfloat=7.5\n",
    "myint=20\n",
    "if mystring==\"hello\":\n",
    "    print(\"string: %s\"%mystring)\n",
    "if isinstance(myfloat,float) and myfloat==10.0:\n",
    "    print(\"float: %f\" % myfloat)\n",
    "if isinstance(myint,int) and myint==20:\n",
    "    print(\"integer:%d\" % myint)"
   ]
  },
  {
   "cell_type": "code",
   "execution_count": 18,
   "metadata": {},
   "outputs": [
    {
     "name": "stdout",
     "output_type": "stream",
     "text": [
      "program to append in list and showing the output\n",
      "10 20 30\n",
      "10\n",
      "20\n",
      "30\n",
      "pranjal barot \n",
      " 180630107003\n"
     ]
    }
   ],
   "source": [
    "#list\n",
    "print(\"program to append in list and showing the output\")\n",
    "mylist=[]\n",
    "mylist.append(10)\n",
    "mylist.append(20)\n",
    "mylist.append(30)\n",
    "print(mylist[0],mylist[1],mylist[2])\n",
    "for x in mylist:\n",
    "    print(x)\n",
    "print(\"pranjal barot \\n 180630107003\")"
   ]
  },
  {
   "cell_type": "code",
   "execution_count": 19,
   "metadata": {},
   "outputs": [
    {
     "name": "stdout",
     "output_type": "stream",
     "text": [
      "program to show element at particular location in list\n",
      "1\n",
      "3\n",
      "pranjal barot\n",
      "180630107003\n"
     ]
    }
   ],
   "source": [
    "print(\"program to show element at particular location in list\")\n",
    "mylist=[1,2,3]\n",
    "print(mylist[0])\n",
    "print(mylist[2])\n",
    "print(\"pranjal barot\\n180630107003\")"
   ]
  },
  {
   "cell_type": "code",
   "execution_count": 21,
   "metadata": {},
   "outputs": [
    {
     "name": "stdout",
     "output_type": "stream",
     "text": [
      "program to print whole list\n",
      "[1, 2]\n",
      "['abc', 'def']\n",
      "the second name in name list is:jerry\n",
      "pranjal barot \n",
      "180630107003\n"
     ]
    }
   ],
   "source": [
    "print(\"program to print whole list\")\n",
    "numbers=[1,2]\n",
    "string=['abc','def']\n",
    "names=[\"john\",\"eric\",\"jessica\"]\n",
    "second_name=\"jerry\"\n",
    "print(numbers)\n",
    "print(string)\n",
    "print(\"the second name in name list is:%s\" % second_name)\n",
    "print(\"pranjal barot \\n180630107003\")"
   ]
  },
  {
   "cell_type": "code",
   "execution_count": 23,
   "metadata": {},
   "outputs": [
    {
     "name": "stdout",
     "output_type": "stream",
     "text": [
      "program to solve a problem\n",
      "2.5\n",
      "pranjal barot \n",
      " en no:180630107003\n"
     ]
    }
   ],
   "source": [
    "#basic operators\n",
    "print(\"program to solve a problem\")\n",
    "number=1+2*3/4.0\n",
    "print(number)\n",
    "print(\"pranjal barot \\n en no:180630107003\")"
   ]
  },
  {
   "cell_type": "code",
   "execution_count": 24,
   "metadata": {},
   "outputs": [
    {
     "name": "stdout",
     "output_type": "stream",
     "text": [
      "reminder program\n",
      "2\n",
      "pranjal barot\n",
      "180630107003\n"
     ]
    }
   ],
   "source": [
    "print(\"reminder program\")\n",
    "remainder=11%3\n",
    "print(remainder)\n",
    "print(\"pranjal barot\\n180630107003\")"
   ]
  },
  {
   "cell_type": "code",
   "execution_count": 25,
   "metadata": {},
   "outputs": [
    {
     "name": "stdout",
     "output_type": "stream",
     "text": [
      "program to find square and cube\n",
      "49\n",
      "8\n",
      "square of 7 is 49 and cube of 2 is8\n",
      "pranjal barot\n",
      "180630107003\n"
     ]
    }
   ],
   "source": [
    "print(\"program to find square and cube\")\n",
    "square=7**2\n",
    "cube=2**3\n",
    "print(square)\n",
    "print(cube)\n",
    "print(\"square of 7 is {0} and cube of 2 is{1}\".format(square,cube))\n",
    "print(\"pranjal barot\\n180630107003\")"
   ]
  },
  {
   "cell_type": "code",
   "execution_count": 27,
   "metadata": {},
   "outputs": [
    {
     "name": "stdout",
     "output_type": "stream",
     "text": [
      "print 5 times hello\n",
      "\n",
      " hello\n",
      " hello\n",
      " hello\n",
      " hello\n",
      " hello\n",
      "pranjal barot \n",
      "180630107003\n"
     ]
    }
   ],
   "source": [
    "print(\"print 5 times hello\")\n",
    "lotsofhello=\"\\n hello\"*5\n",
    "print(lotsofhello)\n",
    "print(\"pranjal barot \\n180630107003\")"
   ]
  },
  {
   "cell_type": "code",
   "execution_count": 29,
   "metadata": {},
   "outputs": [
    {
     "name": "stdout",
     "output_type": "stream",
     "text": [
      "odd even number program\n",
      "[2, 4, 6, 8, 0, 1, 3, 5, 7, 9]\n",
      "name:pranjal barot \n",
      " en no:180630107003\n"
     ]
    }
   ],
   "source": [
    "print(\"odd even number program\")\n",
    "even_numbers=[2,4,6,8,0]\n",
    "odd_numbers=[1,3,5,7,9]\n",
    "all_numbers=(even_numbers+odd_numbers)\n",
    "print(all_numbers)\n",
    "print(\"name:pranjal barot \\n en no:180630107003\")"
   ]
  },
  {
   "cell_type": "code",
   "execution_count": 30,
   "metadata": {},
   "outputs": [
    {
     "name": "stdout",
     "output_type": "stream",
     "text": [
      "to print element of list 3 times\n",
      "[1, 2, 3, 1, 2, 3, 1, 2, 3]\n",
      "pranjal barot\n",
      "180630107003\n"
     ]
    }
   ],
   "source": [
    "print(\"to print element of list 3 times\")\n",
    "print([1,2,3]*3)\n",
    "print(\"pranjal barot\\n180630107003\")"
   ]
  },
  {
   "cell_type": "code",
   "execution_count": 34,
   "metadata": {},
   "outputs": [
    {
     "name": "stdout",
     "output_type": "stream",
     "text": [
      "finding the object of list\n",
      "x list contain 10 objects\n",
      "y list contain 10 objects\n",
      "almost there...\n",
      "great!!\n",
      "pranjal barot\n",
      "180630107003\n"
     ]
    }
   ],
   "source": [
    "print(\"finding the object of list\")\n",
    "x=object()\n",
    "y=object()\n",
    "x_list=[x]*10\n",
    "y_list=[y]*10\n",
    "big_list=x_list+y_list\n",
    "print(\"x list contain %d objects\" %len(x_list))\n",
    "print(\"y list contain %d objects\" %len(y_list))\n",
    "if x_list.count(x)==10 and y_list.count(y)==10:\n",
    "    print(\"almost there...\")\n",
    "if big_list.count(x)==10 and big_list.count(y)==10:\n",
    "    print(\"great!!\")\n",
    "print(\"pranjal barot\\n180630107003\")"
   ]
  },
  {
   "cell_type": "code",
   "execution_count": 36,
   "metadata": {},
   "outputs": [
    {
     "name": "stdout",
     "output_type": "stream",
     "text": [
      "string formation\n",
      "hello, john\n",
      "pranjal barot \n",
      " en. no:180630107003\n"
     ]
    }
   ],
   "source": [
    "#string formation\n",
    "print(\"string formation\")\n",
    "name='john'\n",
    "print(\"hello, %s\" %name)\n",
    "name='pranjal barot'\n",
    "enrollment=180630107003\n",
    "print(\"%s \\n en. no:%d\"%(name,enrollment))"
   ]
  },
  {
   "cell_type": "code",
   "execution_count": 37,
   "metadata": {},
   "outputs": [
    {
     "name": "stdout",
     "output_type": "stream",
     "text": [
      "program to print name and age\n",
      "name is john and age is 23\n",
      "pranjal barot \n",
      "180630107003\n"
     ]
    }
   ],
   "source": [
    "print(\"program to print name and age\")\n",
    "name=\"john\"\n",
    "age=23\n",
    "print(\"name is %s and age is %d\" %(name,age))\n",
    "print(\"pranjal barot \\n180630107003\")"
   ]
  },
  {
   "cell_type": "code",
   "execution_count": 38,
   "metadata": {},
   "outputs": [
    {
     "name": "stdout",
     "output_type": "stream",
     "text": [
      "program to print list\n",
      "a list is [1, 2, 3, 4]\n",
      "pranjal barot \n",
      "180630107003\n"
     ]
    }
   ],
   "source": [
    "print(\"program to print list\")\n",
    "mylist=[1,2,3,4]\n",
    "print(\"a list is %s\" %mylist)\n",
    "print(\"pranjal barot \\n180630107003\")"
   ]
  },
  {
   "cell_type": "code",
   "execution_count": 41,
   "metadata": {},
   "outputs": [
    {
     "name": "stdout",
     "output_type": "stream",
     "text": [
      "string formation program\n",
      "hello john done, your current balance is $53.440\n",
      "pranjal barot\n",
      "180630107003\n"
     ]
    }
   ],
   "source": [
    "print(\"string formation program\")\n",
    "data=(\"john\",\"done\",53.44)\n",
    "format_string=\"hello %s %s, your current balance is $%2.3f\"\n",
    "print(format_string %data)\n",
    "print(\"pranjal barot\\n180630107003\")"
   ]
  },
  {
   "cell_type": "code",
   "execution_count": 42,
   "metadata": {},
   "outputs": [
    {
     "name": "stdout",
     "output_type": "stream",
     "text": [
      "cancate string\n",
      "my enrollment is 180630107003\n",
      "my name is pranjal\n"
     ]
    }
   ],
   "source": [
    "print(\"cancate string\")\n",
    "num=180630107003\n",
    "concate=\"my enrollment is %d\"\n",
    "print(concate %num)\n",
    "string=\"pranjal\"\n",
    "print(\"my name is %s\" %string)"
   ]
  },
  {
   "cell_type": "code",
   "execution_count": null,
   "metadata": {},
   "outputs": [],
   "source": []
  }
 ],
 "metadata": {
  "kernelspec": {
   "display_name": "Python 3",
   "language": "python",
   "name": "python3"
  },
  "language_info": {
   "codemirror_mode": {
    "name": "ipython",
    "version": 3
   },
   "file_extension": ".py",
   "mimetype": "text/x-python",
   "name": "python",
   "nbconvert_exporter": "python",
   "pygments_lexer": "ipython3",
   "version": "3.7.6"
  }
 },
 "nbformat": 4,
 "nbformat_minor": 4
}
